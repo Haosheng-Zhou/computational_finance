{
 "cells": [
  {
   "cell_type": "markdown",
   "id": "410e5018",
   "metadata": {},
   "source": [
    "# Explicit Finite Difference Scheme for Heston Model"
   ]
  },
  {
   "cell_type": "markdown",
   "id": "541aa281",
   "metadata": {},
   "source": [
    "## Explicit Scheme for Heston Model"
   ]
  },
  {
   "cell_type": "markdown",
   "id": "85b0fb61",
   "metadata": {},
   "source": [
    "### Parameters"
   ]
  },
  {
   "cell_type": "code",
   "execution_count": 1,
   "id": "ed51b9f7",
   "metadata": {},
   "outputs": [],
   "source": [
    "import numpy as np\n",
    "import matplotlib.pyplot as plt\n",
    "\n",
    "# Parameters\n",
    "r = 0.05\n",
    "kappa = 1.0\n",
    "theta = 0.2\n",
    "eta = 0.5\n",
    "rho = -0.4\n",
    "s0 = 100.0\n",
    "v0 = 0.25\n",
    "T = 1.0\n",
    "K = 100.0\n",
    "\n",
    "# Numerical solution parameters\n",
    "smin = 0.0\n",
    "smax = 300.0\n",
    "vmin = 0.0\n",
    "vmax = 2.0"
   ]
  },
  {
   "cell_type": "markdown",
   "id": "2e0c1ab3",
   "metadata": {},
   "source": [
    "### First price call option in Heston model, set up terminal condition"
   ]
  },
  {
   "cell_type": "code",
   "execution_count": 2,
   "id": "c1e46885",
   "metadata": {},
   "outputs": [],
   "source": [
    "# Return a matrix as the terminal condition at time T\n",
    "# Has to know ds and dv for the size of the matrix\n",
    "def set_call_payoff(smin,smax,ds,vmin,vmax,dv,K):\n",
    "    N = int(np.round((smax - smin) / ds))\n",
    "    J = int(np.round((vmax - vmin) / dv))\n",
    "    stk_price = np.linspace(smin,smax,N + 1)\n",
    "    terminal_vec = np.maximum(stk_price - K,0)\n",
    "    # Broadcast the vector to a matrix\n",
    "    terminal_mat = np.tile(np.reshape(terminal_vec,(N + 1,1)),(1,J + 1))\n",
    "    return terminal_mat"
   ]
  },
  {
   "cell_type": "markdown",
   "id": "015f198c",
   "metadata": {},
   "source": [
    "### Set up coefficients in explicit finite difference scheme"
   ]
  },
  {
   "cell_type": "code",
   "execution_count": 3,
   "id": "3081d0a1",
   "metadata": {},
   "outputs": [],
   "source": [
    "# Input n,j and output a_{n;j}\n",
    "def set_a_FD(n,j,dt,dv,r,eta,theta,kappa,rho):\n",
    "    return 1 - (dt / dv) * (r * dv + (n ** 2) * j * (dv ** 2) + (eta ** 2) * j)\n",
    "\n",
    "# Input n,j and output b_{n;j}\n",
    "def set_b_FD(n,j,dt,dv,r,eta,theta,kappa,rho):\n",
    "    return (dt / 2) * ((n * r) + (n ** 2) * j * dv)\n",
    "    \n",
    "# Input n,j and output c_{n;j}\n",
    "def set_c_FD(n,j,dt,dv,r,eta,theta,kappa,rho):\n",
    "    return (dt / 2) * (-(n * r) + (n ** 2) * j * dv)\n",
    "\n",
    "# Input n,j and output d_{n;j}\n",
    "def set_d_FD(n,j,dt,dv,r,eta,theta,kappa,rho):\n",
    "    return (dt / (2 * dv)) * ( kappa * (theta - j * dv) + (eta ** 2) * j)\n",
    "\n",
    "# Input n,j and output e_{n;j}\n",
    "def set_e_FD(n,j,dt,dv,r,eta,theta,kappa,rho):\n",
    "    return (dt / (2 * dv)) * (-kappa * (theta - j * dv) + (eta ** 2) * j)\n",
    "\n",
    "# Input n,j and output f_{n;j}\n",
    "def set_f_FD(n,j,dt,dv,r,eta,theta,kappa,rho):\n",
    "    return (dt * eta * j * n * rho) / 4"
   ]
  },
  {
   "cell_type": "markdown",
   "id": "cb1e339e",
   "metadata": {},
   "source": [
    "### Implement explicit finite difference"
   ]
  },
  {
   "cell_type": "code",
   "execution_count": 4,
   "id": "f636d406",
   "metadata": {},
   "outputs": [],
   "source": [
    "def explicit_FD_Heston(dt,ds,dv,T,smin,smax,vmin,vmax,r,kappa,theta,eta,rho,K):\n",
    "    # Get size of matrix\n",
    "    tmin = 0\n",
    "    tmax = T\n",
    "    M = int(np.round((tmax - tmin) / dt))\n",
    "    N = int(np.round((smax - smin) / ds))\n",
    "    J = int(np.round((vmax - vmin) / dv))\n",
    "    \n",
    "    # Only maintain two matrices of size (N + 1) * (J + 1) to record the \n",
    "    # numerical solution at all space variables\n",
    "    # at the current time and the last time\n",
    "    last_sol = set_call_payoff(smin,smax,ds,vmin,vmax,dv,K)\n",
    "    sol = last_sol.copy()\n",
    "    \n",
    "    for m in range(M,0,-1):\n",
    "        # Time index is m so derive C^{m-1} based on C^m\n",
    "        # We have to derive C^{m-1}_{n;j} for all possible (n,j)\n",
    "        \n",
    "        # The first thing to do is to record the solution at the last time in last_sol\n",
    "        # and we only update sol\n",
    "        last_sol = sol\n",
    "        for n in range(0,N + 1):\n",
    "            # Stock price index\n",
    "            for j in range(0,J + 1):\n",
    "                # Volatility index\n",
    "                \n",
    "                # Check whether it hits boundary\n",
    "                if n == 0:\n",
    "                    sol[n,j] = 0\n",
    "                    continue\n",
    "                if n == N:\n",
    "                    sol[n,j] = sol[n - 1,j] + ds\n",
    "                    continue\n",
    "                if j == 0:\n",
    "                    sol[n,j] = (1 - r * dt) * last_sol[n,0]\n",
    "                    continue\n",
    "                if j == J:\n",
    "                    sol[n,j] = n * ds\n",
    "                    continue\n",
    "                \n",
    "                # Otherwise, get all coefficients\n",
    "                a_FD = set_a_FD(n,j,dt,dv,r,eta,theta,kappa,rho)\n",
    "                b_FD = set_b_FD(n,j,dt,dv,r,eta,theta,kappa,rho)\n",
    "                c_FD = set_c_FD(n,j,dt,dv,r,eta,theta,kappa,rho)\n",
    "                d_FD = set_d_FD(n,j,dt,dv,r,eta,theta,kappa,rho)\n",
    "                e_FD = set_e_FD(n,j,dt,dv,r,eta,theta,kappa,rho)\n",
    "                f_FD = set_f_FD(n,j,dt,dv,r,eta,theta,kappa,rho)\n",
    "                \n",
    "                # Perform update\n",
    "                sol[n,j] = a_FD * last_sol[n,j] + b_FD * last_sol[n + 1,j] + \\\n",
    "                c_FD * last_sol[n - 1,j]\\\n",
    "                + d_FD * last_sol[n,j + 1] + e_FD * last_sol[n,j - 1]\\\n",
    "                + f_FD * (last_sol[n + 1,j + 1] + last_sol[n - 1,j - 1] - \\\n",
    "                          last_sol[n + 1,j - 1] - last_sol[n - 1,j + 1])\n",
    "    return sol"
   ]
  },
  {
   "cell_type": "markdown",
   "id": "91c73aea",
   "metadata": {},
   "source": [
    "### Run the function for different $\\Delta t,\\Delta s,\\Delta v$"
   ]
  },
  {
   "cell_type": "code",
   "execution_count": 5,
   "id": "482b4a8e",
   "metadata": {},
   "outputs": [
    {
     "name": "stdout",
     "output_type": "stream",
     "text": [
      "Call price is: 18.502326416954418\n",
      "Put price is: 13.625268867025824\n"
     ]
    }
   ],
   "source": [
    "for dt in [0.00005]:\n",
    "    for ds in [2.5]:\n",
    "        for dv in [0.1]:\n",
    "            # Do explicit finite difference scheme\n",
    "            sol = explicit_FD_Heston(dt,ds,dv,T,smin,smax,vmin,vmax,\n",
    "                                     r,kappa,theta,eta,rho,K)\n",
    "            \n",
    "            # Now take out the option price at s0 and v0\n",
    "            s_ind = int(np.round((s0 - smin) / ds))\n",
    "            v_ind = int(np.round((v0 - vmin) / dv))\n",
    "            call_price = sol[s_ind,v_ind]\n",
    "            \n",
    "            # Put call parity\n",
    "            put_price = call_price - s0 + K * np.exp(-r * T)\n",
    "            print('Call price is: ' + str(call_price))\n",
    "            print('Put price is: ' + str(put_price))"
   ]
  },
  {
   "cell_type": "code",
   "execution_count": 6,
   "id": "9075e1b8",
   "metadata": {},
   "outputs": [
    {
     "name": "stdout",
     "output_type": "stream",
     "text": [
      "The true put price is: 15.6073424500714\n"
     ]
    }
   ],
   "source": [
    "# The true call price in the Heston model is provided on the website  \n",
    "# https://kluge.in-chemnitz.de/tools/pricer/\n",
    "true_call = 20.4844\n",
    "\n",
    "# Put call parity\n",
    "true_put = true_call - s0 + K * np.exp(-r * T)\n",
    "print('The true put price is: ' + str(true_put))"
   ]
  },
  {
   "cell_type": "markdown",
   "id": "edcf2861",
   "metadata": {},
   "source": [
    "## Try the explicit scheme for multiple values of $\\Delta t,\\Delta s$"
   ]
  },
  {
   "cell_type": "code",
   "execution_count": 7,
   "id": "106721fd",
   "metadata": {},
   "outputs": [
    {
     "name": "stdout",
     "output_type": "stream",
     "text": [
      "When dt = 0.0001, ds = 5, the put price is 12.213552025490628\n"
     ]
    },
    {
     "name": "stderr",
     "output_type": "stream",
     "text": [
      "/var/folders/sd/ntm8vytx57g033nh4jm4j2700000gn/T/ipykernel_17065/388961646.py:50: RuntimeWarning: overflow encountered in double_scalars\n",
      "  sol[n,j] = a_FD * last_sol[n,j] + b_FD * last_sol[n + 1,j] + \\\n",
      "/var/folders/sd/ntm8vytx57g033nh4jm4j2700000gn/T/ipykernel_17065/388961646.py:51: RuntimeWarning: overflow encountered in double_scalars\n",
      "  c_FD * last_sol[n - 1,j]\\\n",
      "/var/folders/sd/ntm8vytx57g033nh4jm4j2700000gn/T/ipykernel_17065/388961646.py:50: RuntimeWarning: invalid value encountered in double_scalars\n",
      "  sol[n,j] = a_FD * last_sol[n,j] + b_FD * last_sol[n + 1,j] + \\\n"
     ]
    },
    {
     "name": "stdout",
     "output_type": "stream",
     "text": [
      "When dt = 0.0001, ds = 2.5, the put price is nan\n"
     ]
    },
    {
     "name": "stderr",
     "output_type": "stream",
     "text": [
      "/var/folders/sd/ntm8vytx57g033nh4jm4j2700000gn/T/ipykernel_17065/388961646.py:53: RuntimeWarning: invalid value encountered in double_scalars\n",
      "  + f_FD * (last_sol[n + 1,j + 1] + last_sol[n - 1,j - 1] - \\\n"
     ]
    },
    {
     "name": "stdout",
     "output_type": "stream",
     "text": [
      "When dt = 0.0001, ds = 1.25, the put price is nan\n",
      "When dt = 5e-05, ds = 5, the put price is 12.195031464494235\n",
      "When dt = 5e-05, ds = 2.5, the put price is 12.276560522834941\n",
      "When dt = 5e-05, ds = 1.25, the put price is nan\n"
     ]
    }
   ],
   "source": [
    "# Record numerical solutions for fixed dt and ds\n",
    "put_rec_mat = np.zeros((2,3))\n",
    "\n",
    "for count_t,dt in enumerate([0.0001,0.00005]):\n",
    "    for count_s,ds in enumerate([5,2.5,1.25]):\n",
    "        for dv in [0.2]:\n",
    "        # Fix the value of dv\n",
    "            # Do explicit finite difference scheme\n",
    "            sol = explicit_FD_Heston(dt,ds,dv,T,smin,smax,vmin,vmax,\n",
    "                                     r,kappa,theta,eta,rho,K)\n",
    "            \n",
    "            # Now take out the option price at s0 and v0\n",
    "            s_ind = int(np.round((s0 - smin) / ds))\n",
    "            v_ind = int(np.round((v0 - vmin) / dv))\n",
    "            call_price = sol[s_ind,v_ind]\n",
    "            \n",
    "            # Put call parity\n",
    "            put_price = call_price - s0 + K * np.exp(-r * T)\n",
    "            \n",
    "            # Record the approximation\n",
    "            put_rec_mat[count_t,count_s] = put_price\n",
    "            \n",
    "            # Output\n",
    "            print('When dt = ' + str(dt) + ', ds = ' + str(ds) + \\\n",
    "                  ', the put price is ' + str(put_price))"
   ]
  },
  {
   "cell_type": "code",
   "execution_count": null,
   "id": "3fa66999",
   "metadata": {},
   "outputs": [],
   "source": []
  }
 ],
 "metadata": {
  "kernelspec": {
   "display_name": "Python 3 (ipykernel)",
   "language": "python",
   "name": "python3"
  },
  "language_info": {
   "codemirror_mode": {
    "name": "ipython",
    "version": 3
   },
   "file_extension": ".py",
   "mimetype": "text/x-python",
   "name": "python",
   "nbconvert_exporter": "python",
   "pygments_lexer": "ipython3",
   "version": "3.8.9"
  }
 },
 "nbformat": 4,
 "nbformat_minor": 5
}
