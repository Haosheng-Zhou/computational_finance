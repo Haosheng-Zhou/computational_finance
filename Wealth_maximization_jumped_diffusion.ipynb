{
 "cells": [
  {
   "cell_type": "markdown",
   "id": "c07e7823",
   "metadata": {},
   "source": [
    "# Wealth Maximization with Jumped Diffusion"
   ]
  },
  {
   "cell_type": "markdown",
   "id": "3bec530d",
   "metadata": {},
   "source": [
    "## Parameters"
   ]
  },
  {
   "cell_type": "code",
   "execution_count": 25,
   "id": "05972b9c",
   "metadata": {},
   "outputs": [],
   "source": [
    "import numpy as np\n",
    "import matplotlib.pyplot as plt\n",
    "\n",
    "# Model Parameters\n",
    "r = 0.05\n",
    "mu = 0.1\n",
    "sigma = 0.2\n",
    "lamb = 12.0 # lambda value as intensity of Poisson process\n",
    "zeta = 50.0\n",
    "gamma = -1.5\n",
    "T = 2.0\n",
    "X0 = 1.0\n",
    "\n",
    "# Simulation parameters\n",
    "M = 5 * (10 ** 3)\n",
    "N = 200"
   ]
  },
  {
   "cell_type": "markdown",
   "id": "1ee562dc",
   "metadata": {},
   "source": [
    "## Utility Function"
   ]
  },
  {
   "cell_type": "code",
   "execution_count": 26,
   "id": "35479388",
   "metadata": {},
   "outputs": [],
   "source": [
    "# The power utility function of parameter gamma with wealth process X\n",
    "def utility(gamma,X):\n",
    "    # Terminal wealth\n",
    "    X_T = X[-1]\n",
    "    return (X_T ** gamma) / gamma"
   ]
  },
  {
   "cell_type": "markdown",
   "id": "5ef3a640",
   "metadata": {},
   "source": [
    "## Simulate Poisson Arrival Times"
   ]
  },
  {
   "cell_type": "code",
   "execution_count": 27,
   "id": "c1351ebf",
   "metadata": {},
   "outputs": [],
   "source": [
    "# A function that simulates Poisson arrival times up to time T with intensity lambda\n",
    "# Here use the property of Poisson process that its interarrival times are i.i.d. with exponantial distribution\n",
    "# of parameter lambda\n",
    "def get_Poisson_time(lamb,T):\n",
    "    # A list to store arrival times\n",
    "    arrival_time_lst = list()\n",
    "    \n",
    "    # If lambda is <= 0, always return the empty list\n",
    "    if lamb <= 0:\n",
    "        return arrival_time_lst\n",
    "    \n",
    "    while 1:\n",
    "        # Sample of interarrival time\n",
    "        r = np.random.exponential(scale = 1/lamb)\n",
    "        \n",
    "        if len(arrival_time_lst) == 0:\n",
    "            # Empty list\n",
    "            if r < T:\n",
    "                # if happens before T then append\n",
    "                arrival_time_lst.append(r)\n",
    "            else:\n",
    "                # else return the empty list\n",
    "                return arrival_time_lst\n",
    "        else:\n",
    "            # Not empty list\n",
    "            new_arrival = arrival_time_lst[-1] + r\n",
    "            if new_arrival < T:\n",
    "                # Arrival time not exceeding time T\n",
    "                arrival_time_lst.append(new_arrival)\n",
    "            else:\n",
    "                # Exceeds time T, end of simulation\n",
    "                return arrival_time_lst"
   ]
  },
  {
   "cell_type": "code",
   "execution_count": 28,
   "id": "13eba9ae",
   "metadata": {},
   "outputs": [
    {
     "name": "stdout",
     "output_type": "stream",
     "text": [
      "[0.4954849810305921, 1.3339592138571297]\n",
      "[0.2071352741430851, 0.6201018109023829, 0.920466724538892]\n",
      "[0.2511188873670238, 0.40004859412422145, 0.4348601594950101, 0.7328378062098899, 0.8375354798632878, 1.1782892468856714, 1.2309006605845034, 1.2407107818987348, 1.3627725039238006, 1.471172577222766, 1.4934632292691157, 1.5716278753197694, 1.6310994441507398]\n"
     ]
    }
   ],
   "source": [
    "# Test the function above\n",
    "# The higher intensity of Poisson process, visits come more often, so there are more arrivals\n",
    "print(get_Poisson_time(1,T))\n",
    "print(get_Poisson_time(2,T))\n",
    "print(get_Poisson_time(5,T))"
   ]
  },
  {
   "cell_type": "markdown",
   "id": "928b2e46",
   "metadata": {},
   "source": [
    "## Simulate Poisson Arrival Times and the Size of Jumps"
   ]
  },
  {
   "cell_type": "code",
   "execution_count": 29,
   "id": "b79261d2",
   "metadata": {},
   "outputs": [],
   "source": [
    "# Get both time and size of the jump (tau and Y)\n",
    "def get_Time_Size_Jump(lamb,T,zeta):\n",
    "    # Simulate Poisson arrival times\n",
    "    jump_time_lst = get_Poisson_time(lamb,T)\n",
    "    # Number of jumps\n",
    "    num_jumps = len(jump_time_lst)\n",
    "    # Sample this number of Y's as jump size\n",
    "    jump_size_lst = [np.random.exponential(scale = 1/zeta) for i in range(num_jumps)]\n",
    "    return jump_time_lst,jump_size_lst"
   ]
  },
  {
   "cell_type": "code",
   "execution_count": 30,
   "id": "a0e84965",
   "metadata": {},
   "outputs": [
    {
     "name": "stdout",
     "output_type": "stream",
     "text": [
      "0.020482019465721646\n",
      "32\n"
     ]
    }
   ],
   "source": [
    "# Test the function above\n",
    "# The sample mean of jump size is close to 2% = 1/zeta\n",
    "jump_time_lst,jump_size_lst = get_Time_Size_Jump(lamb,T,zeta)\n",
    "print(np.mean(jump_size_lst))\n",
    "# The sample mean of the number of arrivals is close to 24 = lambda * T\n",
    "print(len(jump_size_lst))"
   ]
  },
  {
   "cell_type": "markdown",
   "id": "ea0b1f29",
   "metadata": {},
   "source": [
    "## Euler Scheme Simulation"
   ]
  },
  {
   "cell_type": "code",
   "execution_count": 31,
   "id": "cb8c63d9",
   "metadata": {},
   "outputs": [
    {
     "name": "stdout",
     "output_type": "stream",
     "text": [
      "When pi equals 0.5:\n",
      "The expected utility is -0.8080556991884912\n",
      "The variance is 0.03833527617796325\n"
     ]
    }
   ],
   "source": [
    "# Fix control pi\n",
    "for pi in [0.5]:\n",
    "    dt = T / N # Length of time interval\n",
    "    \n",
    "    # Store utility\n",
    "    utility_sample = list()\n",
    "    \n",
    "    for _ in range(M):\n",
    "        # Each Monte Carlo iteration\n",
    "        \n",
    "        # First determine the jump time and jump size as two lists\n",
    "        jump_time_lst,jump_size_lst = get_Time_Size_Jump(lamb,T,zeta)\n",
    "        num_jump = len(jump_time_lst)\n",
    "        \n",
    "        # Simulation\n",
    "        X = np.zeros(N + 1)\n",
    "        X[0] = X0\n",
    "        \n",
    "        for i in range(1,N + 1):\n",
    "            # At time (i-1) * dt, value of X is X[i-1]\n",
    "            X_value = X[i - 1]\n",
    "            \n",
    "            # Find the index of all jump time within the interval [(i-1) * dt,i * dt]\n",
    "            jump_ind_lst = [ind for ind, value in enumerate(jump_time_lst) if value > (i - 1) * dt and value < i * dt]\n",
    "            \n",
    "            # A loop doing Euler scheme and jump updates alternatively\n",
    "            last_jump_time = (i - 1) * dt # Record the last jump time\n",
    "            while len(jump_ind_lst) > 0:\n",
    "                jump_ind = jump_ind_lst[0]\n",
    "                jump_time = jump_time_lst[jump_ind]\n",
    "                jump_size = jump_size_lst[jump_ind]\n",
    "                \n",
    "                # Perform Euler scheme from last_jump_time to this jump_time\n",
    "                # A Brownian motion increment\n",
    "                W_incr = np.sqrt(jump_time - last_jump_time) * np.random.randn()\n",
    "                X_value = X_value + X_value * (pi * mu + (1 - pi) * r) * (jump_time - last_jump_time) + \\\n",
    "                X_value * pi * sigma * W_incr\n",
    "                \n",
    "                # Perform a jump, ensure that it's positive\n",
    "                X_value = np.maximum(X_value * (1 - pi * (np.exp(jump_size) - 1)),0)\n",
    "                \n",
    "                # Record the last jump time\n",
    "                last_jump_time = jump_time\n",
    "                \n",
    "                # Remove the first index from list\n",
    "                jump_ind_lst.pop(0)\n",
    "            \n",
    "            # After dealing with jumps, do Euler scheme from last_jump_time till i * dt\n",
    "            W_incr = np.sqrt(i * dt - last_jump_time) * np.random.randn()\n",
    "            X_value = X_value + X_value * (pi * mu + (1 - pi) * r) * (i * dt - last_jump_time) + \\\n",
    "            X_value * pi * sigma * W_incr\n",
    "            \n",
    "            # At time i * dt, value of X\n",
    "            X[i] = X_value\n",
    "            \n",
    "        ## Plot the trajectory and the jumps to check the simulation\n",
    "        #plt.plot(np.linspace(0,T,len(X)),X)\n",
    "        #for jump_time in jump_time_lst:\n",
    "            #plt.axvline(jump_time,linestyle = 'dashed',color = 'red')\n",
    "        \n",
    "        # Collect samples of utility\n",
    "        utility_sample.append(utility(gamma,X),)\n",
    "        \n",
    "    # Take average as estimate of expected utility\n",
    "    utility_est = np.mean(utility_sample)\n",
    "    \n",
    "    # Get the variance of the estimation\n",
    "    regular_variance = np.std(utility_sample) ** 2\n",
    "    \n",
    "    print('When pi equals ' + str(pi) + ':')\n",
    "    print('The expected utility is ' + str(utility_est))\n",
    "    print('The variance is ' + str(regular_variance))"
   ]
  },
  {
   "cell_type": "markdown",
   "id": "bdf4e1b6",
   "metadata": {},
   "source": [
    "## Find the Optimal Control"
   ]
  },
  {
   "cell_type": "markdown",
   "id": "c09a9896",
   "metadata": {},
   "source": [
    "When there's no jump, under this set of parameters, $\\pi=0.5$ is the optimal control. Now since there are jumps downward, we would expect the optimal control to be less than $0.5$."
   ]
  },
  {
   "cell_type": "code",
   "execution_count": 32,
   "id": "7844de5a",
   "metadata": {},
   "outputs": [],
   "source": [
    "# A list of all possible values for pi\n",
    "pi_lst = np.linspace(0.0,0.5,50)"
   ]
  },
  {
   "cell_type": "code",
   "execution_count": 33,
   "id": "1e16ea89",
   "metadata": {},
   "outputs": [],
   "source": [
    "# Record the expected utility for each pi value\n",
    "exp_utility_lst = list()"
   ]
  },
  {
   "cell_type": "markdown",
   "id": "9b7714b8",
   "metadata": {},
   "source": [
    "### Let all different $\\pi$ share the same BM trajectory as variance reduction"
   ]
  },
  {
   "cell_type": "code",
   "execution_count": 34,
   "id": "abc42404",
   "metadata": {},
   "outputs": [],
   "source": [
    "# Prepare standard Gaussian increments xi first\n",
    "Xi = np.random.randn(N + 1,M)"
   ]
  },
  {
   "cell_type": "code",
   "execution_count": 35,
   "id": "7d9cbcfc",
   "metadata": {},
   "outputs": [],
   "source": [
    "# Fix control pi\n",
    "for pi in pi_lst:\n",
    "    dt = T / N # Length of time interval\n",
    "    \n",
    "    # Store utility\n",
    "    utility_sample = list()\n",
    "    \n",
    "    for MC_iter in range(M):\n",
    "        # Each Monte Carlo iteration \n",
    "        # First determine the jump time and jump size as two lists\n",
    "        jump_time_lst,jump_size_lst = get_Time_Size_Jump(lamb,T,zeta)\n",
    "        num_jump = len(jump_time_lst)\n",
    "        \n",
    "        # Simulation\n",
    "        X = np.zeros(N + 1)\n",
    "        X[0] = X0\n",
    "        \n",
    "        for i in range(1,N + 1):\n",
    "            # At time (i-1) * dt, value of X is X[i-1]\n",
    "            X_value = X[i - 1]\n",
    "            \n",
    "            # Record the overall BM increment needed in this interval\n",
    "            overall_W_incr = np.sqrt(dt) * Xi[i - 1,MC_iter]\n",
    "            \n",
    "            # Find the index of all jump time within the interval [(i-1) * dt,i * dt]\n",
    "            jump_ind_lst = [ind for ind, value in enumerate(jump_time_lst) if value > (i - 1) * dt and value < i * dt]\n",
    "            \n",
    "            # A loop doing Euler scheme and jump updates alternatively\n",
    "            last_jump_time = (i - 1) * dt # Record the last jump time\n",
    "            while len(jump_ind_lst) > 0:\n",
    "                jump_ind = jump_ind_lst[0]\n",
    "                jump_time = jump_time_lst[jump_ind]\n",
    "                jump_size = jump_size_lst[jump_ind]\n",
    "                \n",
    "                # Perform Euler scheme from last_jump_time to this jump_time\n",
    "                # A Brownian motion increment\n",
    "                W_incr = np.sqrt(jump_time - last_jump_time) * np.random.randn()\n",
    "                # Notice that we have to minus this increment from overall increment\n",
    "                overall_W_incr = overall_W_incr - W_incr\n",
    "                X_value = X_value + X_value * (pi * mu + (1 - pi) * r) * (jump_time - last_jump_time) + \\\n",
    "                X_value * pi * sigma * W_incr\n",
    "                \n",
    "                # Perform a jump, ensure that it's positive\n",
    "                X_value = np.maximum(X_value * (1 - pi * (np.exp(jump_size) - 1)),0)\n",
    "                \n",
    "                # Record the last jump time\n",
    "                last_jump_time = jump_time\n",
    "                \n",
    "                # Remove the first index from list\n",
    "                jump_ind_lst.pop(0)\n",
    "            \n",
    "            # After dealing with jumps, do Euler scheme from last_jump_time till i * dt\n",
    "            # Use the prepared trajectory here!!!\n",
    "            W_incr = overall_W_incr # The increments left for Euler scheme without jump\n",
    "            X_value = X_value + X_value * (pi * mu + (1 - pi) * r) * (i * dt - last_jump_time) + \\\n",
    "            X_value * pi * sigma * W_incr\n",
    "            \n",
    "            # At time i * dt, value of X\n",
    "            X[i] = X_value\n",
    "            \n",
    "        ## Plot the trajectory and the jumps to check the simulation\n",
    "        #plt.plot(np.linspace(0,T,len(X)),X)\n",
    "        #for jump_time in jump_time_lst:\n",
    "            #plt.axvline(jump_time,linestyle = 'dashed',color = 'red')\n",
    "        \n",
    "        # Collect samples of utility\n",
    "        utility_sample.append(utility(gamma,X),)\n",
    "        \n",
    "    # Take average as estimate of expected utility\n",
    "    utility_est = np.mean(utility_sample)\n",
    "    exp_utility_lst.append(utility_est)"
   ]
  },
  {
   "cell_type": "code",
   "execution_count": 36,
   "id": "2d07fc83",
   "metadata": {},
   "outputs": [
    {
     "name": "stdout",
     "output_type": "stream",
     "text": [
      "The optimal pi is 0.0\n"
     ]
    },
    {
     "data": {
      "text/plain": [
       "[<matplotlib.lines.Line2D at 0x10b782160>]"
      ]
     },
     "execution_count": 36,
     "metadata": {},
     "output_type": "execute_result"
    },
    {
     "data": {
      "image/png": "[encoded data removed]",
      "text/plain": [
       "<Figure size 432x288 with 1 Axes>"
      ]
     },
     "metadata": {
      "needs_background": "light"
     },
     "output_type": "display_data"
    }
   ],
   "source": [
    "# Figure out the optimal control\n",
    "opt_ind = np.argmax(exp_utility_lst)\n",
    "opt_pi = pi_lst[opt_ind]\n",
    "print('The optimal pi is ' + str(opt_pi))\n",
    "\n",
    "# Plot the curve\n",
    "plt.plot(pi_lst,exp_utility_lst)"
   ]
  },
  {
   "cell_type": "markdown",
   "id": "46c7e1ec",
   "metadata": {},
   "source": [
    "When $\\lambda = 0$, the code gives the optimal control $\\pi = 0.5$, same as the closed-form solution to Merton problem without jumps."
   ]
  },
  {
   "cell_type": "code",
   "execution_count": null,
   "id": "480499f2",
   "metadata": {},
   "outputs": [],
   "source": []
  }
 ],
 "metadata": {
  "kernelspec": {
   "display_name": "Python 3 (ipykernel)",
   "language": "python",
   "name": "python3"
  },
  "language_info": {
   "codemirror_mode": {
    "name": "ipython",
    "version": 3
   },
   "file_extension": ".py",
   "mimetype": "text/x-python",
   "name": "python",
   "nbconvert_exporter": "python",
   "pygments_lexer": "ipython3",
   "version": "3.8.9"
  }
 },
 "nbformat": 4,
 "nbformat_minor": 5
}
