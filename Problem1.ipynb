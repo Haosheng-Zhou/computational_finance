{
 "cells": [
  {
   "cell_type": "markdown",
   "id": "7092e688",
   "metadata": {},
   "source": [
    "# Problem 1"
   ]
  },
  {
   "cell_type": "markdown",
   "id": "9745024f",
   "metadata": {},
   "source": [
    "## Question (a)"
   ]
  },
  {
   "cell_type": "markdown",
   "id": "256be445",
   "metadata": {},
   "source": [
    "### Parameters"
   ]
  },
  {
   "cell_type": "code",
   "execution_count": 1,
   "id": "cac1ee8a",
   "metadata": {},
   "outputs": [],
   "source": [
    "import numpy as np\n",
    "import matplotlib.pyplot as plt\n",
    "\n",
    "# Parameters\n",
    "gamma = 0.8\n",
    "x0 = 20.0\n",
    "sigma = 0.4\n",
    "r = 0.05\n",
    "T = 0.5\n",
    "L1 = 15.0\n",
    "L2 = 25.0\n",
    "dt = 0.01"
   ]
  },
  {
   "cell_type": "markdown",
   "id": "ffecf18b",
   "metadata": {},
   "source": [
    "### Implicit FD Scheme"
   ]
  },
  {
   "cell_type": "code",
   "execution_count": 2,
   "id": "e138dbbc",
   "metadata": {},
   "outputs": [],
   "source": [
    "# Return a matrix whose entries are numerical solution to the PDE\n",
    "# Rows correspond to time t and columns correspond to state x\n",
    "def implicit_FD_corridor(gamma,sigma,r,T,L1,L2,dt,dx):\n",
    "    # The range of discretization\n",
    "    x_min = L1\n",
    "    x_max = L2\n",
    "    t_min = 0\n",
    "    t_max = T\n",
    "    M = int(np.round((t_max - t_min) / dt))\n",
    "    N = int(np.round((x_max - x_min) / dx))\n",
    "    \n",
    "    # Set up the matrix with M+1 rows and N+1 columns\n",
    "    sol = np.zeros((M + 1,N + 1))\n",
    "    \n",
    "    # Set up terminal conditions\n",
    "    sol[-1,:] = np.ones(N + 1)\n",
    "    \n",
    "    # Set up boundary conditions\n",
    "    sol[:,0] = np.zeros(M + 1)\n",
    "    sol[:,-1] = np.zeros(M + 1)\n",
    "    \n",
    "    # Build up the matrix A\n",
    "    A = np.zeros((N + 1,N + 1))\n",
    "    A[0,0] = 1\n",
    "    A[N,N] = 1\n",
    "    for i in range(1,N):\n",
    "        # Set sub-diagonal entries a_i\n",
    "        A[i,i - 1] = -dt / 2 * ((sigma ** 2) * ((x_min + i * dx) ** (2 * gamma))\\\n",
    "                                * (dx ** (-2)) - i * r )\n",
    "        \n",
    "        # Set diagonal entries b_i\n",
    "        A[i,i] = 1 + (sigma ** 2) * ((x_min + i * dx) ** (2 * gamma))\\\n",
    "                                * (dx ** (-2)) * dt + r * dt\n",
    "        \n",
    "        # Set super-diagonal entries c_i\n",
    "        A[i,i + 1] = -dt / 2 * ((sigma ** 2) * ((x_min + i * dx) ** (2 * gamma))\\\n",
    "                                * (dx ** (-2)) + i * r )\n",
    "        \n",
    "    # Compute A inverse\n",
    "    A_inv = np.linalg.inv(A)\n",
    "    \n",
    "    # Start implicit FD scheme backwardly in time\n",
    "    for time in range(M,0,-1):\n",
    "        prev_V = np.matmul(A_inv,sol[time,:])\n",
    "        sol[time - 1,:] = prev_V\n",
    "    \n",
    "    return sol"
   ]
  },
  {
   "cell_type": "code",
   "execution_count": 3,
   "id": "80dbd321",
   "metadata": {},
   "outputs": [
    {
     "name": "stdout",
     "output_type": "stream",
     "text": [
      "Use implicit finite difference scheme:\n",
      "When dx is 0.1, option price is 0.7648187983705848\n",
      "When dx is 0.05, option price is 0.7648596843555147\n",
      "When dx is 0.02, option price is 0.7648711318489099\n"
     ]
    }
   ],
   "source": [
    "dx_lst = [0.1,0.05,0.02]\n",
    "print('Use implicit finite difference scheme:')\n",
    "for dx in dx_lst:\n",
    "    sol = implicit_FD_corridor(gamma,sigma,r,T,L1,L2,dt,dx)\n",
    "    # Now we want the value when x0 = 20, t = 0\n",
    "    # Find column index for x0 = 20\n",
    "    col_ind = int(np.round((x0 - L1) / dx))\n",
    "    #x_plot = np.linspace(15,25,int(10/dx) + 1)\n",
    "    print('When dx is ' + str(dx) + ', option price is ' + str(sol[0,col_ind]))"
   ]
  },
  {
   "cell_type": "markdown",
   "id": "24853527",
   "metadata": {},
   "source": [
    "### Crank-Nicolson Scheme"
   ]
  },
  {
   "cell_type": "code",
   "execution_count": 4,
   "id": "e92ecc4d",
   "metadata": {},
   "outputs": [],
   "source": [
    "# Return a matrix whose entries are numerical solution to the PDE\n",
    "# Rows correspond to time t and columns correspond to state x\n",
    "def Crank_Nicolson_corridor(gamma,sigma,r,T,L1,L2,dt,dx):\n",
    "    # The range of discretization\n",
    "    x_min = L1\n",
    "    x_max = L2\n",
    "    t_min = 0\n",
    "    t_max = T\n",
    "    M = int(np.round((t_max - t_min) / dt))\n",
    "    N = int(np.round((x_max - x_min) / dx))\n",
    "    \n",
    "    # Set up the matrix with M+1 rows and N+1 columns\n",
    "    sol = np.zeros((M + 1,N + 1))\n",
    "    \n",
    "    # Set up terminal conditions\n",
    "    sol[-1,:] = np.ones(N + 1)\n",
    "    \n",
    "    # Set up boundary conditions\n",
    "    sol[:,0] = np.zeros(M + 1)\n",
    "    sol[:,-1] = np.zeros(M + 1)\n",
    "    \n",
    "    # Build up the matrix A and B\n",
    "    A = np.zeros((N + 1,N + 1))\n",
    "    B = np.zeros((N + 1,N + 1))\n",
    "    A[0,0] = 1\n",
    "    A[N,N] = 1\n",
    "    B[0,0] = 1\n",
    "    B[N,N] = 1\n",
    "    for i in range(1,N):\n",
    "        # Set sub-diagonal entries a_i\n",
    "        a = dt / 4 * ((sigma ** 2) * ((x_min + i * dx) ** (2 * gamma)) \\\n",
    "                      * (dx ** (-2)) - i * r )\n",
    "        A[i,i - 1] = -a\n",
    "        B[i,i - 1] = a\n",
    "        \n",
    "        # Set diagonal entries b_i\n",
    "        b = -dt / 2 *( (sigma ** 2) * ((x_min + i * dx) ** (2 * gamma)) \\\n",
    "                      * (dx ** (-2)) + r)\n",
    "        A[i,i] = 1 - b\n",
    "        B[i,i] = 1 + b\n",
    "        \n",
    "        # Set super-diagonal entries c_i\n",
    "        c = dt / 4 * ((sigma ** 2) * ((x_min + i * dx) ** (2 * gamma)) \\\n",
    "                      * (dx ** (-2)) + i * r )\n",
    "        A[i,i + 1] = -c\n",
    "        B[i,i + 1] = c\n",
    "    \n",
    "    # Only use inv(A) * B\n",
    "    A_inv_B = np.matmul(np.linalg.inv(A),B)\n",
    "    \n",
    "    # Start Crank-Nicolson scheme backwardly in time\n",
    "    for time in range(M,0,-1):\n",
    "        prev_V = np.matmul(A_inv_B,sol[time,:])\n",
    "        sol[time - 1,:] = prev_V\n",
    "    \n",
    "    return sol"
   ]
  },
  {
   "cell_type": "code",
   "execution_count": 5,
   "id": "61663b0f",
   "metadata": {},
   "outputs": [
    {
     "name": "stdout",
     "output_type": "stream",
     "text": [
      "Use Crank-Nicolson scheme:\n",
      "When dx is 0.1, option price is 0.7640289397158996\n",
      "When dx is 0.05, option price is 0.7640691696274393\n",
      "When dx is 0.02, option price is 0.7640804329960916\n"
     ]
    }
   ],
   "source": [
    "dx_lst = [0.1,0.05,0.02]\n",
    "print('Use Crank-Nicolson scheme:')\n",
    "for dx in dx_lst:\n",
    "    sol = Crank_Nicolson_corridor(gamma,sigma,r,T,L1,L2,dt,dx)\n",
    "    # Now we want the value when x0 = 20, t = 0\n",
    "    # Find column index for x0 = 20\n",
    "    col_ind = int(np.round((x0 - L1) / dx))\n",
    "    #x_plot = np.linspace(15,25,int(10/dx) + 1)\n",
    "    #plt.plot(x_plot,sol[0,:])\n",
    "    print('When dx is ' + str(dx) + ', option price is ' + str(sol[0,col_ind]))"
   ]
  },
  {
   "cell_type": "markdown",
   "id": "2b158ab5",
   "metadata": {},
   "source": [
    "## Compound Option"
   ]
  },
  {
   "cell_type": "markdown",
   "id": "9f8e27e1",
   "metadata": {},
   "source": [
    "### Implicit FD Scheme"
   ]
  },
  {
   "cell_type": "markdown",
   "id": "67ae0c71",
   "metadata": {},
   "source": [
    "### First deal with the underlying call option"
   ]
  },
  {
   "cell_type": "code",
   "execution_count": 6,
   "id": "e6d7298c",
   "metadata": {},
   "outputs": [],
   "source": [
    "# Parameters for compound call\n",
    "T1 = 0.25\n",
    "T2 = 0.5\n",
    "K1 = 2.0\n",
    "K2 = 20.0\n",
    "xmin = 0.0\n",
    "xmax = 100.0"
   ]
  },
  {
   "cell_type": "code",
   "execution_count": 7,
   "id": "e3923156",
   "metadata": {},
   "outputs": [],
   "source": [
    "# Payoff function of the call\n",
    "# Called in implicit_FD_call to solve numerically\n",
    "# Return a vector as the terminal condition of the PDE set up according to the payoff\n",
    "def set_call_payoff(xmin,xmax,N,K,arg):\n",
    "    # Set up terminal conditions as (x - K2)_+\n",
    "    stk_price = np.linspace(xmin,xmax,N + 1)\n",
    "    terminal_vec = np.maximum(stk_price - K,0)\n",
    "    return terminal_vec"
   ]
  },
  {
   "cell_type": "code",
   "execution_count": 8,
   "id": "e58dcbc0",
   "metadata": {},
   "outputs": [],
   "source": [
    "# Return a matrix whose entries are numerical solution to the PDE\n",
    "# Rows correspond to time t and columns correspond to state x\n",
    "def implicit_FD_call(gamma,sigma,r,T,K,xmin,xmax,dt,dx,\n",
    "                     set_payoff,set_payoff_arg):\n",
    "    # The range of discretization\n",
    "    t_min = 0\n",
    "    t_max = T\n",
    "    M = int(np.round((t_max - t_min) / dt))\n",
    "    N = int(np.round((xmax - xmin) / dx))\n",
    "    \n",
    "    # Set up the matrix with M+1 rows and N+1 columns\n",
    "    sol = np.zeros((M + 1,N + 1))\n",
    "    \n",
    "    # Set up terminal conditions\n",
    "    sol[-1,:] = set_payoff(xmin,xmax,N,K,set_payoff_arg)\n",
    "    \n",
    "    # Build up the matrix A\n",
    "    A = np.zeros((N + 1,N + 1))\n",
    "    A[0,0] = 1\n",
    "    A[N,N] = 1\n",
    "    for i in range(1,N):\n",
    "        # Set sub-diagonal entries a_i\n",
    "        A[i,i - 1] = -dt / 2 * ((sigma ** 2) * ((xmin + i * dx) ** (2 * gamma))\\\n",
    "                                * (dx ** (-2)) - i * r )\n",
    "        \n",
    "        # Set diagonal entries b_i\n",
    "        A[i,i] = 1 + (sigma ** 2) * ((xmin + i * dx) ** (2 * gamma)) * (dx ** (-2))\\\n",
    "                                * dt + r * dt\n",
    "        \n",
    "        # Set super-diagonal entries c_i\n",
    "        A[i,i + 1] = -dt / 2 * ((sigma ** 2) * ((xmin + i * dx) ** (2 * gamma)) \\\n",
    "                                * (dx ** (-2)) + i * r )\n",
    "        \n",
    "    # Compute A inverse\n",
    "    A_inv = np.linalg.inv(A)\n",
    "    \n",
    "    # Start implicit FD scheme backwardly in time\n",
    "    for time in range(M,0,-1):\n",
    "        # Set up boundary condition vector\n",
    "        bound_val = K * np.exp(-r * (T - time * dt)) * (1 - np.exp(-r * dt))\n",
    "        g = np.zeros(N + 1)\n",
    "        g[-1] = bound_val\n",
    "        \n",
    "        # Update\n",
    "        prev_V = np.matmul(A_inv,(sol[time,:] + g))\n",
    "        sol[time - 1,:] = prev_V\n",
    "    return sol"
   ]
  },
  {
   "cell_type": "markdown",
   "id": "8185852b",
   "metadata": {},
   "source": [
    "### Plot the Option Price Curves to Check"
   ]
  },
  {
   "cell_type": "code",
   "execution_count": 9,
   "id": "a2c940f7",
   "metadata": {},
   "outputs": [
    {
     "data": {
      "text/plain": [
       "Text(0.5, 1.0, 'Call Price v.s. Stock Price')"
      ]
     },
     "execution_count": 9,
     "metadata": {},
     "output_type": "execute_result"
    },
    {
     "data": {
      "image/png": "[encoded data removed]",
      "text/plain": [
       "<Figure size 432x288 with 1 Axes>"
      ]
     },
     "metadata": {
      "needs_background": "light"
     },
     "output_type": "display_data"
    }
   ],
   "source": [
    "dx = 0.02\n",
    "sol = implicit_FD_call(gamma,sigma,r,T2,K2,xmin,xmax,dt,dx,set_call_payoff,0)\n",
    "# Find column index for x0 = 20\n",
    "col_ind = int(np.round((x0 - xmin) / dx))\n",
    "option_price_stk_price = sol[0,:]\n",
    "option_price_time = sol[:,col_ind]\n",
    "\n",
    "# Plot to check the relationship between option price and stock price\n",
    "x_plot = np.linspace(xmin,xmax,int((xmax - xmin) / dx) + 1)\n",
    "plt.plot(x_plot,option_price_stk_price)\n",
    "plt.title('Call Price v.s. Stock Price')"
   ]
  },
  {
   "cell_type": "code",
   "execution_count": 10,
   "id": "0925b8da",
   "metadata": {},
   "outputs": [
    {
     "data": {
      "text/plain": [
       "Text(0.5, 1.0, 'Call Price v.s. Time when Initial Stock Price is 20')"
      ]
     },
     "execution_count": 10,
     "metadata": {},
     "output_type": "execute_result"
    },
    {
     "data": {
      "image/png": "[encoded data removed]",
      "text/plain": [
       "<Figure size 432x288 with 1 Axes>"
      ]
     },
     "metadata": {
      "needs_background": "light"
     },
     "output_type": "display_data"
    }
   ],
   "source": [
    "# Plot to check the relationship between option value and time\n",
    "t_plot = np.linspace(0,T2,int(T2 / dt) + 1)\n",
    "plt.plot(t_plot,option_price_time)\n",
    "plt.title('Call Price v.s. Time when Initial Stock Price is 20')"
   ]
  },
  {
   "cell_type": "markdown",
   "id": "4a257bfd",
   "metadata": {},
   "source": [
    "### Set up payoff function for compound call"
   ]
  },
  {
   "cell_type": "code",
   "execution_count": 11,
   "id": "476036d3",
   "metadata": {},
   "outputs": [],
   "source": [
    "# Payoff function of the compound call\n",
    "# Called in implicit_FD_call to solve numerically\n",
    "# Return a vector as the terminal condition of the PDE set up according to the payoff\n",
    "def set_compound_call_payoff(xmin,xmax,N,K,arg):\n",
    "    # Set up terminal conditions as (val - K2)_+ where val is the \n",
    "    # value of underlying call at time T1\n",
    "    # The underlying call value at T1 is delivered as arg\n",
    "    terminal_vec = np.maximum(arg - K,0)\n",
    "    return terminal_vec"
   ]
  },
  {
   "cell_type": "code",
   "execution_count": 12,
   "id": "22b64844",
   "metadata": {},
   "outputs": [
    {
     "name": "stdout",
     "output_type": "stream",
     "text": [
      "When dx is 0.1, option price is 0.37438684176953274\n",
      "When dx is 0.05, option price is 0.3743954826825464\n",
      "When dx is 0.02, option price is 0.37439832972225323\n"
     ]
    }
   ],
   "source": [
    "dx_lst = [0.1,0.05,0.02]\n",
    "for dx in dx_lst:\n",
    "    # Prepare the value at time T1 of underlying call\n",
    "    call_sol = implicit_FD_call(gamma,sigma,r,T2,K2,xmin,xmax,dt,dx,set_call_payoff,0)\n",
    "    row_ind = int(np.round(T1 / dt))\n",
    "    \n",
    "    # Underlying call value at time T1 for different stock prices\n",
    "    underlying_call_val = call_sol[row_ind,:]\n",
    "    \n",
    "    # Compound call value\n",
    "    sol = implicit_FD_call(gamma,sigma,r,T1,K1,xmin,xmax,dt,dx,\n",
    "                           set_compound_call_payoff,underlying_call_val)\n",
    "    # Now we want the value when x0 = 20, t = 0\n",
    "    # Find column index for x0 = 20\n",
    "    col_ind = int(np.round((x0 - xmin) / dx))\n",
    "    option_price_time = sol[:,col_ind]\n",
    "    print('When dx is ' + str(dx) + ', option price is ' + str(option_price_time[0]))"
   ]
  },
  {
   "cell_type": "markdown",
   "id": "154b42e0",
   "metadata": {},
   "source": [
    "### Crank-Nicolson Scheme"
   ]
  },
  {
   "cell_type": "code",
   "execution_count": 13,
   "id": "1cd18d8c",
   "metadata": {},
   "outputs": [],
   "source": [
    "# Return a matrix whose entries are numerical solution to the PDE\n",
    "# Rows correspond to time t and columns correspond to state x\n",
    "def Crank_Nicolson_call(gamma,sigma,r,T,K,xmin,xmax,dt,dx,set_payoff,set_payoff_arg):\n",
    "    # The range of discretization\n",
    "    t_min = 0\n",
    "    t_max = T\n",
    "    M = int(np.round((t_max - t_min) / dt))\n",
    "    N = int(np.round((xmax - xmin) / dx))\n",
    "    \n",
    "    # Set up the matrix with M+1 rows and N+1 columns\n",
    "    sol = np.zeros((M + 1,N + 1))\n",
    "    \n",
    "    # Set up terminal conditions as (x - K2)_+\n",
    "    sol[-1,:] = set_payoff(xmin,xmax,N,K,set_payoff_arg)\n",
    "    \n",
    "    # Build up the matrix A and B\n",
    "    A = np.zeros((N + 1,N + 1))\n",
    "    B = np.zeros((N + 1,N + 1))\n",
    "    A[0,0] = 1\n",
    "    A[N,N] = 1\n",
    "    B[0,0] = 1\n",
    "    B[N,N] = 1\n",
    "    for i in range(1,N):\n",
    "        # Set sub-diagonal entries a_i\n",
    "        a = dt / 4 * ((sigma ** 2) * ((xmin + i * dx) ** (2 * gamma))\\\n",
    "                      * (dx ** (-2)) - i * r )\n",
    "        A[i,i - 1] = -a\n",
    "        B[i,i - 1] = a\n",
    "        \n",
    "        # Set diagonal entries b_i\n",
    "        b = -dt / 2 *( (sigma ** 2) * ((xmin + i * dx) ** (2 * gamma))\\\n",
    "                      * (dx ** (-2)) + r)\n",
    "        A[i,i] = 1 - b\n",
    "        B[i,i] = 1 + b\n",
    "        \n",
    "        # Set super-diagonal entries c_i\n",
    "        c = dt / 4 * ((sigma ** 2) * ((xmin + i * dx) ** (2 * gamma))\\\n",
    "                      * (dx ** (-2)) + i * r )\n",
    "        A[i,i + 1] = -c\n",
    "        B[i,i + 1] = c\n",
    "    \n",
    "    # Compute inv(A) and inv(A) * B\n",
    "    A_inv = np.linalg.inv(A)\n",
    "    A_inv_B = np.matmul(A_inv,B)\n",
    "    \n",
    "    # Start implicit FD scheme backwardly in time\n",
    "    for time in range(M,0,-1):\n",
    "        # Set up boundary condition vector\n",
    "        bound_val = K * np.exp(-r * (T - time * dt)) * (1 - np.exp(-r * dt))\n",
    "        g = np.zeros(N + 1)\n",
    "        g[-1] = bound_val\n",
    "        \n",
    "        # Update\n",
    "        prev_V = np.matmul(A_inv_B,sol[time,:]) + np.matmul(A_inv,g)\n",
    "        sol[time - 1,:] = prev_V\n",
    "    return sol"
   ]
  },
  {
   "cell_type": "code",
   "execution_count": 14,
   "id": "37c71aa6",
   "metadata": {},
   "outputs": [
    {
     "name": "stdout",
     "output_type": "stream",
     "text": [
      "When dx is 0.1, option price is 0.3755858677807252\n",
      "When dx is 0.05, option price is 0.3755870986900636\n",
      "When dx is 0.02, option price is 0.3755921459195908\n"
     ]
    }
   ],
   "source": [
    "dx_lst = [0.1,0.05,0.02]\n",
    "for dx in dx_lst:\n",
    "    # Prepare the value at time T1 of underlying call\n",
    "    call_sol = Crank_Nicolson_call(gamma,sigma,r,T2,K2,xmin,xmax,\n",
    "                                   dt,dx,set_call_payoff,0)\n",
    "    row_ind = int(np.round(T1 / dt))\n",
    "    underlying_call_val = call_sol[row_ind,:]\n",
    "    \n",
    "    # Compound call\n",
    "    sol = Crank_Nicolson_call(gamma,sigma,r,T1,K1,xmin,xmax,dt,dx,\n",
    "                              set_compound_call_payoff,underlying_call_val)\n",
    "    # Now we want the value when x0 = 20, t = 0\n",
    "    # Find column index for x0 = 20\n",
    "    col_ind = int(np.round((x0 - xmin) / dx))\n",
    "    option_price_time = sol[:,col_ind]\n",
    "    print('When dx is ' + str(dx) + ', option price is ' + str(option_price_time[0]))"
   ]
  },
  {
   "cell_type": "code",
   "execution_count": null,
   "id": "365b3a11",
   "metadata": {},
   "outputs": [],
   "source": []
  }
 ],
 "metadata": {
  "kernelspec": {
   "display_name": "Python 3 (ipykernel)",
   "language": "python",
   "name": "python3"
  },
  "language_info": {
   "codemirror_mode": {
    "name": "ipython",
    "version": 3
   },
   "file_extension": ".py",
   "mimetype": "text/x-python",
   "name": "python",
   "nbconvert_exporter": "python",
   "pygments_lexer": "ipython3",
   "version": "3.8.9"
  }
 },
 "nbformat": 4,
 "nbformat_minor": 5
}
