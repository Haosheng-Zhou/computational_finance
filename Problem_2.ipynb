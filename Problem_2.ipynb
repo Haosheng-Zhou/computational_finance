{
 "cells": [
  {
   "cell_type": "markdown",
   "id": "57d16609",
   "metadata": {},
   "source": [
    "# Problem 2"
   ]
  },
  {
   "cell_type": "markdown",
   "id": "a1f017cc",
   "metadata": {},
   "source": [
    "## Set up parameters"
   ]
  },
  {
   "cell_type": "code",
   "execution_count": 1,
   "id": "2e6d3fd0",
   "metadata": {},
   "outputs": [],
   "source": [
    "import numpy as np\n",
    "import matplotlib.pyplot as plt\n",
    "\n",
    "# Model Parameters\n",
    "gamma = 0.8\n",
    "r = 0.05\n",
    "sigma = 0.4\n",
    "\n",
    "\n",
    "# Initial Conditions\n",
    "X0 = 20.0\n",
    "\n",
    "# Option Parameters\n",
    "T = 0.5\n",
    "L1 = 15\n",
    "L2 = 25\n",
    "\n",
    "# Monte Carlo Iterations\n",
    "M = 10 ** 5"
   ]
  },
  {
   "cell_type": "markdown",
   "id": "9873d7df",
   "metadata": {},
   "source": [
    "## Option payoff"
   ]
  },
  {
   "cell_type": "code",
   "execution_count": 2,
   "id": "580a4924",
   "metadata": {},
   "outputs": [],
   "source": [
    "def corridor_payoff(r,T,X):\n",
    "    # Take inf and sup of trajectory\n",
    "    sup_X = np.max(X)\n",
    "    inf_X = np.min(X)\n",
    "    return np.exp(-r * T) * (sup_X <= L2 and inf_X >= L1) "
   ]
  },
  {
   "cell_type": "markdown",
   "id": "5f389f0e",
   "metadata": {},
   "source": [
    "## Euler scheme with $h=0.01$"
   ]
  },
  {
   "cell_type": "code",
   "execution_count": 3,
   "id": "79a1b145",
   "metadata": {},
   "outputs": [
    {
     "name": "stdout",
     "output_type": "stream",
     "text": [
      "When step size is 0.01:\n",
      "The 95% confidence interval for the price of corridor option is: [0.7857380356443701 ,0.7904993255811].\n",
      "The variance of estimator under Euler scheme is 0.14752890632553411\n",
      " \n"
     ]
    }
   ],
   "source": [
    "# Main Loop\n",
    "for h in [0.01]: \n",
    "    # Fix number of step size N\n",
    "    N = int(np.round(T / h))\n",
    "    dt = h # Length of time interval\n",
    "    \n",
    "    # Store corridor option price samples with list\n",
    "    corridor_sample = list()\n",
    "    \n",
    "    for _ in range(M):\n",
    "        # Each Monte Carlo iteration\n",
    "        # Build up increments of W\n",
    "        W_incr = np.sqrt(dt) * np.random.randn(N + 1)\n",
    "        \n",
    "        # Simulation\n",
    "        X = np.zeros(N + 1)\n",
    "        X[0] = X0\n",
    "        \n",
    "        for i in range(1,N + 1):\n",
    "            # Euler scheme\n",
    "            X[i] = X[i - 1] * (1 + r * dt) + sigma * (X[i - 1] ** gamma) * W_incr[i - 1]\n",
    "        \n",
    "        # Collect samples of option price\n",
    "        corridor_sample.append(corridor_payoff(r,T,X))\n",
    "        \n",
    "    # Take average as estimate\n",
    "    corridor_est = np.mean(corridor_sample)\n",
    "    \n",
    "    # Compute CI\n",
    "    # Compute sample standard deviation\n",
    "    corridor_stddev = np.std(corridor_sample)\n",
    "    \n",
    "    # 95% CI\n",
    "    corridor_CI_95_lb = corridor_est - 1.96 * (corridor_stddev / np.sqrt(M))\n",
    "    corridor_CI_95_ub = corridor_est + 1.96 * (corridor_stddev / np.sqrt(M))\n",
    "    \n",
    "    # Report the results\n",
    "    EM_variance = corridor_stddev ** 2\n",
    "    print('When step size is ' + str(h) + ':')\n",
    "    print('The 95% confidence interval for the price of corridor option is: [' + str(corridor_CI_95_lb) + ' ,' \n",
    "          + str(corridor_CI_95_ub) + '].')\n",
    "    print('The variance of estimator under Euler scheme is ' + str(EM_variance))\n",
    "    print(' ')"
   ]
  },
  {
   "cell_type": "markdown",
   "id": "e06a2e00",
   "metadata": {},
   "source": [
    "## Richardson-Romberg Extrapolation"
   ]
  },
  {
   "cell_type": "code",
   "execution_count": 4,
   "id": "e15ab5a4",
   "metadata": {},
   "outputs": [
    {
     "name": "stdout",
     "output_type": "stream",
     "text": [
      "When step size is 0.01:\n",
      "The 95% confidence interval for the price of corridor option is: [0.767320972300265 ,0.7725373292065485].\n",
      "The variance of estimator under RR scheme is 0.1770771252455462\n",
      " \n",
      "When step size is 0.005:\n",
      "The 95% confidence interval for the price of corridor option is: [0.7647545903853765 ,0.7699150623894462].\n",
      "The variance of estimator under RR scheme is 0.17330325453448392\n",
      " \n",
      "When step size is 0.0025:\n",
      "The 95% confidence interval for the price of corridor option is: [0.7608398749412306 ,0.765988286140884].\n",
      "The variance of estimator under RR scheme is 0.17249412927370925\n",
      " \n"
     ]
    }
   ],
   "source": [
    "# Main Loop\n",
    "for h in [0.01,0.005,0.0025]: \n",
    "    # Fix number of step size N\n",
    "    N = int(np.round(T / h))\n",
    "    \n",
    "    # Store corridor option price samples with list\n",
    "    corridor_sample = list()\n",
    "    lst_fine = list()\n",
    "    lst_coarse = list()\n",
    "    \n",
    "    for _ in range(M):\n",
    "        # Each Monte Carlo iteration\n",
    "        # Build up Xi as i.i.d. standard Gaussian increments\n",
    "        Xi = np.random.randn(2 * N + 1)\n",
    "        \n",
    "        # Simulation, keep both fine and coarse scheme\n",
    "        X_fine = np.zeros(2 * N + 1)\n",
    "        X_fine[0] = X0\n",
    "        X_coarse = np.zeros(N + 1)\n",
    "        X_coarse[0] = X0\n",
    "        \n",
    "        # Finer scheme\n",
    "        for i in range(1,2 * N + 1):\n",
    "            # Euler scheme\n",
    "            X_fine[i] = X_fine[i - 1] + r * X_fine[i - 1] * h / 2 + sigma * (X_fine[i - 1] ** gamma) * np.sqrt(h/2) * Xi[i - 1]\n",
    "        \n",
    "        # Coarser scheme\n",
    "        for i in range(1,N + 1):\n",
    "            # Euler scheme\n",
    "            X_coarse[i] = X_coarse[i - 1] + r * X_coarse[i - 1] * h + sigma * (X_coarse[i - 1] ** gamma) * np.sqrt(h) * (Xi[2 * i - 2] + Xi[2 * i - 1]) / np.sqrt(2)\n",
    "        \n",
    "        #print(X_fine)\n",
    "        # Collect samples of option price\n",
    "        corridor_sample.append(2 * corridor_payoff(r,T,X_fine) - corridor_payoff(r,T,X_coarse)) # RR estimator!\n",
    "        lst_fine.append(corridor_payoff(r,T,X_fine))\n",
    "        lst_coarse.append(corridor_payoff(r,T,X_coarse))\n",
    "        \n",
    "    # Take average as estimate\n",
    "    corridor_est = np.mean(corridor_sample)\n",
    "    \n",
    "    # Compute CI\n",
    "    # Compute sample standard deviation\n",
    "    corridor_stddev = np.std(corridor_sample)\n",
    "    \n",
    "    # 95% CI\n",
    "    corridor_CI_95_lb = corridor_est - 1.96 * (corridor_stddev / np.sqrt(M))\n",
    "    corridor_CI_95_ub = corridor_est + 1.96 * (corridor_stddev / np.sqrt(M))\n",
    "    \n",
    "    # Report the results\n",
    "    RR_variance = corridor_stddev ** 2\n",
    "    print('When step size is ' + str(h) + ':')\n",
    "    print('The 95% confidence interval for the price of corridor option is: [' + str(corridor_CI_95_lb) + ' ,' \n",
    "          + str(corridor_CI_95_ub) + '].')\n",
    "    print('The variance of estimator under RR scheme is ' + str(RR_variance))\n",
    "    print(' ')"
   ]
  },
  {
   "cell_type": "markdown",
   "id": "24d1f0eb",
   "metadata": {},
   "source": [
    "## Antithetic Sampling"
   ]
  },
  {
   "cell_type": "code",
   "execution_count": 6,
   "id": "c9e84fb7",
   "metadata": {},
   "outputs": [
    {
     "name": "stdout",
     "output_type": "stream",
     "text": [
      "When step size is 0.01:\n",
      "The 95% confidence interval for the price of corridor option is: [0.7879672029463612 ,0.7919568297465759].\n",
      "The variance of estimator under antithetic sampling Euler scheme is 0.10358393641315325\n",
      " \n"
     ]
    }
   ],
   "source": [
    "# Main Loop\n",
    "for h in [0.01]: \n",
    "    # Fix number of step size N\n",
    "    N = int(np.round(T / h))\n",
    "    dt = h # Length of time interval\n",
    "    \n",
    "    # Store corridor option price samples with list\n",
    "    corridor_sample = list()\n",
    "    \n",
    "    # Build up increments of W in advance, note that we only build up half number of\n",
    "    # BM trajectory in antithetic sampling\n",
    "    W_incr = np.sqrt(dt) * np.random.randn(N + 1,int(np.ceil(M / 2)))\n",
    "    \n",
    "    for MC_iter in range(M):\n",
    "        # Each Monte Carlo iteration\n",
    "        \n",
    "        # Simulation\n",
    "        X = np.zeros(N + 1)\n",
    "        X[0] = X0\n",
    "        \n",
    "        # Which trajectory to use depends on whether MC_iter is odd or even\n",
    "        # If it's even, use a new trajectory\n",
    "        # If it's odd, use a reflected old trajectory\n",
    "        \n",
    "        if MC_iter % 2 == 0:\n",
    "            antithetic_traj = W_incr[:,int(np.round(MC_iter / 2))]\n",
    "        else:\n",
    "            antithetic_traj = -W_incr[:,int(np.round((MC_iter - 1) / 2))]\n",
    "        \n",
    "        for i in range(1,N + 1):\n",
    "            # Euler scheme\n",
    "            X[i] = X[i - 1] * (1 + r * dt) + sigma * (X[i - 1] ** gamma) * antithetic_traj[i - 1]\n",
    "        \n",
    "        # Collect samples of option price\n",
    "        corridor_sample.append(corridor_payoff(r,T,X))\n",
    "        \n",
    "    # Take average as estimate\n",
    "    corridor_est = np.mean(corridor_sample)\n",
    "    \n",
    "    # Compute CI\n",
    "    # Compute sample standard deviation\n",
    "    # Notice that it shall be calculated in a paired way!!!\n",
    "    corridor_paired_sample = [(corridor_sample[i] + corridor_sample[i + 1]) / 2 for i in range(0,M,2)]\n",
    "    corridor_stddev = np.std(corridor_paired_sample)\n",
    "    \n",
    "    # 95% CI\n",
    "    corridor_CI_95_lb = corridor_est - 1.96 * (corridor_stddev / np.sqrt(M))\n",
    "    corridor_CI_95_ub = corridor_est + 1.96 * (corridor_stddev / np.sqrt(M))\n",
    "    \n",
    "    # Report the results\n",
    "    AT_variance = corridor_stddev ** 2\n",
    "    print('When step size is ' + str(h) + ':')\n",
    "    print('The 95% confidence interval for the price of corridor option is: [' + str(corridor_CI_95_lb) + ' ,' \n",
    "          + str(corridor_CI_95_ub) + '].')\n",
    "    print('The variance of estimator under antithetic sampling Euler scheme is ' + str(AT_variance))\n",
    "    print(' ')"
   ]
  },
  {
   "cell_type": "code",
   "execution_count": null,
   "id": "febd3d4d",
   "metadata": {},
   "outputs": [],
   "source": []
  }
 ],
 "metadata": {
  "kernelspec": {
   "display_name": "Python 3 (ipykernel)",
   "language": "python",
   "name": "python3"
  },
  "language_info": {
   "codemirror_mode": {
    "name": "ipython",
    "version": 3
   },
   "file_extension": ".py",
   "mimetype": "text/x-python",
   "name": "python",
   "nbconvert_exporter": "python",
   "pygments_lexer": "ipython3",
   "version": "3.8.9"
  }
 },
 "nbformat": 4,
 "nbformat_minor": 5
}
